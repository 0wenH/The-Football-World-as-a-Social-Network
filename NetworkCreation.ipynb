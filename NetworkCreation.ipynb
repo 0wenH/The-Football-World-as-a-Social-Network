{
 "cells": [
  {
   "cell_type": "markdown",
   "metadata": {},
   "source": [
    "# Creating a network out of Scraped Data\n",
    "\n"
   ]
  },
  {
   "cell_type": "markdown",
   "metadata": {},
   "source": [
    "Needed imports"
   ]
  },
  {
   "cell_type": "code",
   "execution_count": null,
   "metadata": {},
   "outputs": [],
   "source": [
    "import pandas as pd\n",
    "\n",
    "import io\n",
    "import networkx as nx"
   ]
  },
  {
   "cell_type": "markdown",
   "metadata": {},
   "source": [
    "### Read in player history file, each player as a row for each season they played. "
   ]
  },
  {
   "cell_type": "code",
   "execution_count": null,
   "metadata": {},
   "outputs": [],
   "source": [
    "df2 = pd.read_csv('PlayersCombFixed.csv')\n",
    "df2 = df2.drop(columns=['Unnamed: 0'])"
   ]
  },
  {
   "cell_type": "markdown",
   "metadata": {},
   "source": [
    "Combine Competition and Country as some countries have the leagues with the same name"
   ]
  },
  {
   "cell_type": "code",
   "execution_count": null,
   "metadata": {},
   "outputs": [],
   "source": [
    "df2['Country'] = df2['Country'].str.split(' ').str[1]\n",
    "df2[\"Comp\"] = df2[\"Comp\"] + [\" \"] + df2[\"Country\"]\n",
    "df2"
   ]
  },
  {
   "cell_type": "markdown",
   "metadata": {},
   "source": [
    "### Create nodes file"
   ]
  },
  {
   "cell_type": "markdown",
   "metadata": {},
   "source": [
    "group by player id, gets lists and counts for season, squad and comp"
   ]
  },
  {
   "cell_type": "code",
   "execution_count": null,
   "metadata": {},
   "outputs": [],
   "source": [
    "nodes1 = df2.groupby(['ID']).agg({\n",
    "                                'Season':lambda x: list(x),\n",
    "                                'Name': 'first',\n",
    "                                'Squad': lambda x: list(x),\n",
    "                                'Comp': lambda x: list(x),\n",
    "                                'LgRank' : lambda x: list(x),\n",
    "                                'CountryFixed': 'first',\n",
    "                                'DOB' : 'first',\n",
    "                                'MP' : 'sum',\n",
    "                                'Gls' : 'sum',\n",
    "                                         }).reset_index()\n"
   ]
  },
  {
   "cell_type": "code",
   "execution_count": null,
   "metadata": {},
   "outputs": [],
   "source": [
    "nodes = df2.groupby(\"ID\").agg({\n",
    "                                \"Season\": pd.Series.nunique,\n",
    "                                \"Squad\": pd.Series.nunique,\n",
    "                                \"Comp\": pd.Series.nunique,  \n",
    "                                })\n",
    "\n",
    "nodes = nodes.reset_index()\n",
    "nodes.rename(columns={'Season': 'numofSeasons', 'Squad': 'numofSquads', 'Comp':'numofComp'}, inplace=True)"
   ]
  },
  {
   "cell_type": "code",
   "execution_count": null,
   "metadata": {},
   "outputs": [],
   "source": [
    "nodesDf = pd.merge(nodes1, nodes, on='ID', how='outer')\n",
    "nodesDf"
   ]
  },
  {
   "cell_type": "markdown",
   "metadata": {},
   "source": [
    "# Create Edges files"
   ]
  },
  {
   "cell_type": "markdown",
   "metadata": {},
   "source": [
    "convert to a dictionary then use list comprehension on the dictionary matching up seasons where players shared a squad"
   ]
  },
  {
   "cell_type": "code",
   "execution_count": null,
   "metadata": {},
   "outputs": [],
   "source": [
    "list1 = df2.to_dict('records')\n",
    "mylist = list1\n",
    "len(mylist)"
   ]
  },
  {
   "cell_type": "code",
   "execution_count": null,
   "metadata": {},
   "outputs": [],
   "source": [
    "mynewlist = [{'Name1':x['Name'], 'Name2':y['Name'], 'Season':x['Season'], 'Squad':x['Squad'], 'Comp' : x['Comp'], 'LgRank':x['LgRank'] , 'source':x['ID'], 'target':y['ID'], 'Nation1':x['CountryFixed'], 'Nation2':y['CountryFixed'], 'Born1':x['DOB'], 'Born2':y['DOB'], 'Gls1':x['Gls'], 'Gls2':y['Gls'], 'MP1':x['MP'], 'MP2':y['MP']} for x in mylist for y in mylist if  x['Squad'] == y['Squad'] and x['Season'] == y['Season'] and x['Name'] > y['Name'] and x['Comp'] == y['Comp']]\n",
    "\n",
    "edgesDf = pd.DataFrame(mynewlist)\n",
    "\n",
    "edgesDf"
   ]
  },
  {
   "cell_type": "markdown",
   "metadata": {},
   "source": [
    "### Export both files"
   ]
  },
  {
   "cell_type": "code",
   "execution_count": null,
   "metadata": {},
   "outputs": [],
   "source": [
    "edgesDf.to_csv('edges.csv',index=False)\n",
    "nodesDf.to_csv('nodes.csv', index=False)"
   ]
  }
 ],
 "metadata": {
  "kernelspec": {
   "display_name": "Python 3.7.11",
   "language": "python",
   "name": "python3"
  },
  "language_info": {
   "codemirror_mode": {
    "name": "ipython",
    "version": 3
   },
   "file_extension": ".py",
   "mimetype": "text/x-python",
   "name": "python",
   "nbconvert_exporter": "python",
   "pygments_lexer": "ipython3",
   "version": "3.7.11"
  },
  "orig_nbformat": 4,
  "vscode": {
   "interpreter": {
    "hash": "ce21b655b4d6c9e397d5ad93d5666c623f49909f6d0cc2f72076dafcf1b3ecfb"
   }
  }
 },
 "nbformat": 4,
 "nbformat_minor": 2
}
