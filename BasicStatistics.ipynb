{
 "cells": [
  {
   "cell_type": "markdown",
   "metadata": {},
   "source": [
    "# Basic Statistics and Null Model Comparasion"
   ]
  },
  {
   "cell_type": "code",
   "execution_count": 9,
   "metadata": {},
   "outputs": [],
   "source": [
    "import pandas as pd\n",
    "\n",
    "import io\n",
    "import networkx as nx\n",
    "import numpy as np\n",
    "\n",
    "\n",
    "\n",
    "import matplotlib.pyplot as plt\n",
    "import matplotlib as mpl\n"
   ]
  },
  {
   "cell_type": "markdown",
   "metadata": {},
   "source": [
    "### Degree Distribution slightly editied from version given by Dr. Towlson"
   ]
  },
  {
   "cell_type": "code",
   "execution_count": 11,
   "metadata": {},
   "outputs": [],
   "source": [
    "%matplotlib inline\n",
    "import math\n",
    "# Function Defintions\n",
    "def plot_degree_dist(G):\n",
    "    \n",
    "    degrees = [G.degree(n) for n in G.nodes()]\n",
    "    kmin = min(degrees)\n",
    "    kmax = max(degrees)\n",
    "    print(kmax)\n",
    "    print(kmin)\n",
    "    mybins = math.ceil(math.sqrt(G.number_of_nodes()))\n",
    "    if kmin>0:\n",
    "        bin_edges = np.logspace(np.log10(kmin), np.log10(kmax)+1, num=mybins)\n",
    "    else:\n",
    "        bin_edges = np.logspace(0, np.log10(kmax)+1, mybins=20)\n",
    "    density, _ = np.histogram(degrees, bins=bin_edges, density=True)\n",
    "\n",
    "    fig = plt.figure(figsize=(6,4))\n",
    "\n",
    "    log_be = np.log10(bin_edges)\n",
    "    x = 10**((log_be[1:] + log_be[:-1])/2)\n",
    "    plt.loglog(x, density, marker='o', linestyle='none')\n",
    "    plt.xlabel(r\"degree $k$\", fontsize=16)\n",
    "    plt.ylabel(r\"$P(k)$\", fontsize=16)\n",
    "\n",
    "    ax = plt.gca()\n",
    "    ax.spines['right'].set_visible(False)\n",
    "    ax.spines['top'].set_visible(False)\n",
    "    ax.yaxis.set_ticks_position('left')\n",
    "    ax.xaxis.set_ticks_position('bottom')\n",
    "    sum = 0\n",
    "    for i in degrees:\n",
    "        sum += i\n",
    "    mean = sum / len(degrees)\n",
    "    print(mean)"
   ]
  },
  {
   "cell_type": "markdown",
   "metadata": {},
   "source": [
    "#### Read in edges dataframe"
   ]
  },
  {
   "cell_type": "code",
   "execution_count": 13,
   "metadata": {},
   "outputs": [
    {
     "name": "stderr",
     "output_type": "stream",
     "text": [
      "c:\\Program Files\\ArcGIS\\Pro\\bin\\Python\\envs\\arcgispro-py3\\lib\\site-packages\\IPython\\core\\interactiveshell.py:3166: DtypeWarning: Columns (11,12) have mixed types.Specify dtype option on import or set low_memory=False.\n",
      "  interactivity=interactivity, compiler=compiler, result=result)\n"
     ]
    }
   ],
   "source": [
    "edgesDf = pd.read_csv(\"edgesDataComp3.csv\")"
   ]
  },
  {
   "cell_type": "markdown",
   "metadata": {},
   "source": [
    "Create graph"
   ]
  },
  {
   "cell_type": "code",
   "execution_count": 17,
   "metadata": {},
   "outputs": [],
   "source": [
    "edgesDf.rename(columns={'Source' : \"source\", 'Target' : 'target'}, inplace=True)\n",
    "G = nx.from_pandas_edgelist(edgesDf, edge_attr=['Season', 'Name1', 'Name2'])"
   ]
  },
  {
   "cell_type": "markdown",
   "metadata": {},
   "source": [
    "Calculate Basic statistics for Network"
   ]
  },
  {
   "cell_type": "code",
   "execution_count": null,
   "metadata": {},
   "outputs": [],
   "source": [
    "#!pip install community\n",
    "import networkx as nx\n",
    "import networkx.algorithms.community as nxac\n",
    "import community as community_louvain\n",
    "\n",
    "print(G.number_of_nodes())\n",
    "print(G.number_of_edges())\n",
    "print(community_louvain.best_partition(G))\n",
    "# print(nx.average_shortest_path_length(G,weight=None))\n",
    "# print(np.mean(list(nx.clustering(G).values())))\n",
    "\n",
    "plot_degree_dist(G)\n",
    "\n",
    "\n"
   ]
  },
  {
   "cell_type": "markdown",
   "metadata": {},
   "source": [
    "Create 100 network null ensemble"
   ]
  },
  {
   "cell_type": "code",
   "execution_count": 4,
   "metadata": {},
   "outputs": [],
   "source": [
    "def ensemble(G):\n",
    "    graphList = []\n",
    "    for i in range(100): # 1000 is better\n",
    "        print(i)\n",
    "        DP = G.copy() # the function edits the graph in place\n",
    "        nx.double_edge_swap(DP,nswap=10*G.number_of_edges(), max_tries=10000000)\n",
    "        curGraph = nx.to_pandas_edgelist(DP)\n",
    "        curGraph.to_csv(f'random_{i}.csv', index=False)\n",
    "        graphList.append(DP)\n",
    "    return graphList"
   ]
  },
  {
   "cell_type": "code",
   "execution_count": null,
   "metadata": {},
   "outputs": [],
   "source": [
    "GList = ensemble(G)"
   ]
  },
  {
   "cell_type": "markdown",
   "metadata": {},
   "source": [
    "Functions for calculating communities, shortest path, and clustering coeffficent"
   ]
  },
  {
   "cell_type": "code",
   "execution_count": 5,
   "metadata": {},
   "outputs": [],
   "source": [
    "def ensembleCommunities():\n",
    "    #clustering_DP = []\n",
    "    NumClusters = []\n",
    "\n",
    "\n",
    "    for i in range(100): # 1000 is better\n",
    "        randEdges = pd.read_csv(f'random_{i}.csv')\n",
    "        newG = nx.from_pandas_edgelist(randEdges)\n",
    "        partition = community_louvain.best_partition(newG)\n",
    "        newComs = pd.DataFrame(partition.items(), columns=['ID', 'Community'])\n",
    "        uniqueclusters = newComs['Community'].nunique()\n",
    "\n",
    "        NumClusters.append(uniqueclusters)\n",
    "        print(i, uniqueclusters)\n",
    "            #myfile.write(\"\\n\", d_DP)\n",
    "        #clustering_DP.append(c_DP)\n",
    "\n",
    "    \n",
    "    return NumClusters"
   ]
  },
  {
   "cell_type": "code",
   "execution_count": 2,
   "metadata": {},
   "outputs": [],
   "source": [
    "def ensembleStatsShortestPath():\n",
    "    #clustering_DP = []\n",
    "    short_path_DP = []\n",
    "    for i in range(100): # 1000 is better\n",
    "        print(i)\n",
    "        randEdges = pd.read_csv(f'random_{i}.csv')\n",
    "        newG = nx.from_pandas_edgelist(randEdges)\n",
    "      \n",
    "        #c_DP = np.mean(list(nx.clustering(G).values()))\n",
    "        if nx.is_connected(newG)==True:\n",
    "            d_DP = nx.average_shortest_path_length(newG,weight=None)\n",
    "            short_path_DP.append(d_DP)\n",
    "        #clustering_DP.append(c_DP)\n",
    "\n",
    "    return short_path_DP"
   ]
  },
  {
   "cell_type": "code",
   "execution_count": null,
   "metadata": {},
   "outputs": [],
   "source": [
    "def ensembleStatsClustering():\n",
    "    clustering_DP = []\n",
    "    # short_path_DP = []\n",
    "    for i in range(100): # 1000 is better\n",
    "        print(i)\n",
    "        randEdges = pd.read_csv(f'random_{i}.csv')\n",
    "        newG = nx.from_pandas_edgelist(randEdges)\n",
    "        c_DP = np.mean(list(nx.clustering(newG).values()))  \n",
    "        clustering_DP.append(c_DP)\n",
    "\n",
    "    return clustering_DP"
   ]
  },
  {
   "cell_type": "code",
   "execution_count": null,
   "metadata": {},
   "outputs": [],
   "source": [
    "clusterlist = ensembleStatsClustering()\n",
    "communities = ensembleCommunities()\n",
    "shortpath = ensembleStatsShortestPath()"
   ]
  },
  {
   "cell_type": "markdown",
   "metadata": {},
   "source": [
    "Print out results from methods"
   ]
  },
  {
   "cell_type": "code",
   "execution_count": null,
   "metadata": {},
   "outputs": [],
   "source": [
    "print(np.mean(clusterlist))\n",
    "print(np.std(clusterlist))\n",
    "print(np.mean(communities))\n",
    "print(np.std(communities))\n",
    "print(np.mean(shortpath))\n",
    "print(np.std(shortpath))\n"
   ]
  }
 ],
 "metadata": {
  "kernelspec": {
   "display_name": "Python 3.7.11",
   "language": "python",
   "name": "python3"
  },
  "language_info": {
   "codemirror_mode": {
    "name": "ipython",
    "version": 3
   },
   "file_extension": ".py",
   "mimetype": "text/x-python",
   "name": "python",
   "nbconvert_exporter": "python",
   "pygments_lexer": "ipython3",
   "version": "3.7.11"
  },
  "orig_nbformat": 4,
  "vscode": {
   "interpreter": {
    "hash": "ce21b655b4d6c9e397d5ad93d5666c623f49909f6d0cc2f72076dafcf1b3ecfb"
   }
  }
 },
 "nbformat": 4,
 "nbformat_minor": 2
}
